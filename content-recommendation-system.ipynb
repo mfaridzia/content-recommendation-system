{
  "nbformat": 4,
  "nbformat_minor": 0,
  "metadata": {
    "kernelspec": {
      "display_name": "Python 3",
      "language": "python",
      "name": "python3"
    },
    "language_info": {
      "codemirror_mode": {
        "name": "ipython",
        "version": 3
      },
      "file_extension": ".py",
      "mimetype": "text/x-python",
      "name": "python",
      "nbconvert_exporter": "python",
      "pygments_lexer": "ipython3",
      "version": "3.6.6"
    },
    "colab": {
      "name": "Content Based Recommendation Tugas 3.ipynb",
      "provenance": []
    }
  },
  "cells": [
    {
      "cell_type": "markdown",
      "metadata": {
        "id": "-S25BxMGD2TU"
      },
      "source": [
        "### Import Library\n",
        "Pertama, import semua library yang dibutuhkan"
      ]
    },
    {
      "cell_type": "code",
      "metadata": {
        "id": "3oqyVHbAD2TV"
      },
      "source": [
        "import numpy as np\n",
        "import pandas as pd"
      ],
      "execution_count": null,
      "outputs": []
    },
    {
      "cell_type": "code",
      "metadata": {
        "id": "RxWkkDv4D2TW"
      },
      "source": [
        "from typing import List, Dict"
      ],
      "execution_count": null,
      "outputs": []
    },
    {
      "cell_type": "markdown",
      "metadata": {
        "id": "Q_dVHtL4D2TX"
      },
      "source": [
        " Menggunakan TfidfVectorizer dari library Scikit-learn."
      ]
    },
    {
      "cell_type": "code",
      "metadata": {
        "id": "RcixVB7GD2TX"
      },
      "source": [
        "from sklearn.feature_extraction.text import TfidfVectorizer\n",
        "from sklearn.metrics.pairwise import cosine_similarity"
      ],
      "execution_count": null,
      "outputs": []
    },
    {
      "cell_type": "markdown",
      "metadata": {
        "id": "P8S1F5NgD2TY"
      },
      "source": [
        "### Dataset"
      ]
    },
    {
      "cell_type": "markdown",
      "metadata": {
        "id": "OCYuN7YoD2TY"
      },
      "source": [
        "Dataset berisi nama, artis, dan lirik untuk dengan jumlah 57650 lagu dalam bahasa Inggris. Data diperoleh dari LyricsFreak."
      ]
    },
    {
      "cell_type": "code",
      "metadata": {
        "id": "ou2gBXXVD2TY"
      },
      "source": [
        "songs = pd.read_csv('https://raw.githubusercontent.com/mfaridzia/content-recommendation-system/main/datasets.csv')"
      ],
      "execution_count": null,
      "outputs": []
    },
    {
      "cell_type": "markdown",
      "metadata": {
        "id": "tgLTHwpoUzsy"
      },
      "source": [
        "Tampilkan data"
      ]
    },
    {
      "cell_type": "code",
      "metadata": {
        "colab": {
          "base_uri": "https://localhost:8080/",
          "height": 204
        },
        "id": "uy05SXMpD2TZ",
        "outputId": "f1326ba8-3b29-43a5-ba5f-9729b2cd1533"
      },
      "source": [
        "songs.head()"
      ],
      "execution_count": null,
      "outputs": [
        {
          "output_type": "execute_result",
          "data": {
            "text/html": [
              "<div>\n",
              "<style scoped>\n",
              "    .dataframe tbody tr th:only-of-type {\n",
              "        vertical-align: middle;\n",
              "    }\n",
              "\n",
              "    .dataframe tbody tr th {\n",
              "        vertical-align: top;\n",
              "    }\n",
              "\n",
              "    .dataframe thead th {\n",
              "        text-align: right;\n",
              "    }\n",
              "</style>\n",
              "<table border=\"1\" class=\"dataframe\">\n",
              "  <thead>\n",
              "    <tr style=\"text-align: right;\">\n",
              "      <th></th>\n",
              "      <th>artist</th>\n",
              "      <th>song</th>\n",
              "      <th>link</th>\n",
              "      <th>text</th>\n",
              "    </tr>\n",
              "  </thead>\n",
              "  <tbody>\n",
              "    <tr>\n",
              "      <th>0</th>\n",
              "      <td>ABBA</td>\n",
              "      <td>Ahe's My Kind Of Girl</td>\n",
              "      <td>/a/abba/ahes+my+kind+of+girl_20598417.html</td>\n",
              "      <td>Look at her face, it's a wonderful face  \\nAnd...</td>\n",
              "    </tr>\n",
              "    <tr>\n",
              "      <th>1</th>\n",
              "      <td>ABBA</td>\n",
              "      <td>Andante, Andante</td>\n",
              "      <td>/a/abba/andante+andante_20002708.html</td>\n",
              "      <td>Take it easy with me, please  \\nTouch me gentl...</td>\n",
              "    </tr>\n",
              "    <tr>\n",
              "      <th>2</th>\n",
              "      <td>ABBA</td>\n",
              "      <td>As Good As New</td>\n",
              "      <td>/a/abba/as+good+as+new_20003033.html</td>\n",
              "      <td>I'll never know why I had to go  \\nWhy I had t...</td>\n",
              "    </tr>\n",
              "    <tr>\n",
              "      <th>3</th>\n",
              "      <td>ABBA</td>\n",
              "      <td>Bang</td>\n",
              "      <td>/a/abba/bang_20598415.html</td>\n",
              "      <td>Making somebody happy is a question of give an...</td>\n",
              "    </tr>\n",
              "    <tr>\n",
              "      <th>4</th>\n",
              "      <td>ABBA</td>\n",
              "      <td>Bang-A-Boomerang</td>\n",
              "      <td>/a/abba/bang+a+boomerang_20002668.html</td>\n",
              "      <td>Making somebody happy is a question of give an...</td>\n",
              "    </tr>\n",
              "  </tbody>\n",
              "</table>\n",
              "</div>"
            ],
            "text/plain": [
              "  artist  ...                                               text\n",
              "0   ABBA  ...  Look at her face, it's a wonderful face  \\nAnd...\n",
              "1   ABBA  ...  Take it easy with me, please  \\nTouch me gentl...\n",
              "2   ABBA  ...  I'll never know why I had to go  \\nWhy I had t...\n",
              "3   ABBA  ...  Making somebody happy is a question of give an...\n",
              "4   ABBA  ...  Making somebody happy is a question of give an...\n",
              "\n",
              "[5 rows x 4 columns]"
            ]
          },
          "metadata": {
            "tags": []
          },
          "execution_count": 6
        }
      ]
    },
    {
      "cell_type": "markdown",
      "metadata": {
        "id": "sXkkzbZ7D2Ta"
      },
      "source": [
        "Karena dataset nya besar, hanya digunakan 500 sample data random saja."
      ]
    },
    {
      "cell_type": "code",
      "metadata": {
        "id": "Jx6_5kDqD2Tb"
      },
      "source": [
        "songs = songs.sample(n=5000).drop('link', axis=1).reset_index(drop=True)"
      ],
      "execution_count": null,
      "outputs": []
    },
    {
      "cell_type": "markdown",
      "metadata": {
        "id": "P4TiqpDWD2Tb"
      },
      "source": [
        "Membersihkan data yang berisi \"\\n\" "
      ]
    },
    {
      "cell_type": "code",
      "metadata": {
        "id": "fHZB8uOfD2Tc"
      },
      "source": [
        "songs['text'] = songs['text'].str.replace(r'\\n', '')"
      ],
      "execution_count": null,
      "outputs": []
    },
    {
      "cell_type": "markdown",
      "metadata": {
        "id": "1MjZMFqtD2Tc"
      },
      "source": [
        "Menggunakan vektorizer TF-IDF untuk menghitung skor TF-IDF dari setiap lirik lagu, per kata. Dan menentukan argument khusus untuk prediksi."
      ]
    },
    {
      "cell_type": "code",
      "metadata": {
        "id": "3HYfNM-8D2Tc"
      },
      "source": [
        "tfidf = TfidfVectorizer(analyzer='word', stop_words='english')"
      ],
      "execution_count": null,
      "outputs": []
    },
    {
      "cell_type": "code",
      "metadata": {
        "id": "D5eCNZOxD2Tc"
      },
      "source": [
        "lyrics_matrix = tfidf.fit_transform(songs['text'])"
      ],
      "execution_count": null,
      "outputs": []
    },
    {
      "cell_type": "markdown",
      "metadata": {
        "id": "6BKWuc35D2Td"
      },
      "source": [
        "Menggunakan data matrik yang sudah diperoleh untuk prediksi\n",
        "\n",
        "Untuk menghitung kemiripan lirik, menggunakan cosine similarity\n",
        "\n",
        "Menghitung kesamaan kosinus dari setiap item dengan setiap item yang lain dalam dataset."
      ]
    },
    {
      "cell_type": "code",
      "metadata": {
        "id": "HTD7TfzwD2Td"
      },
      "source": [
        "cosine_similarities = cosine_similarity(lyrics_matrix) "
      ],
      "execution_count": null,
      "outputs": []
    },
    {
      "cell_type": "markdown",
      "metadata": {
        "id": "ZyXHDFYBD2Td"
      },
      "source": [
        "Setelah mendapatkan data kesamaan, maka data nya bisa disimpan dalam dictionary dari 50 lagu paling mirip untuk setiap lagu di dalam data."
      ]
    },
    {
      "cell_type": "code",
      "metadata": {
        "id": "ANEEaBRyD2Te"
      },
      "source": [
        "similarities = {}"
      ],
      "execution_count": null,
      "outputs": []
    },
    {
      "cell_type": "code",
      "metadata": {
        "id": "X7XV8Do2D2Te"
      },
      "source": [
        "for i in range(len(cosine_similarities)):\n",
        "    # Urutkan setiap elemen dalam cosine_similarities untuk mendapatkan indeks lagu.\n",
        "    similar_indices = cosine_similarities[i].argsort()[:-50:-1] \n",
        "    # Simpan data yang mirip dari setiap nama dari 50 lagu yang paling mirip. kecuali indeks pertama.\n",
        "    similarities[songs['song'].iloc[i]] = [(cosine_similarities[i][x], songs['song'][x], songs['artist'][x]) for x in similar_indices][1:]"
      ],
      "execution_count": null,
      "outputs": []
    },
    {
      "cell_type": "markdown",
      "metadata": {
        "id": "lIu6PeZdD2Te"
      },
      "source": [
        "Gunakan skor kesamaan untuk mengakses item yang paling mirip dan untuk memberikan rekomendasi.\n",
        "\n",
        "Selanjutnya menentukan kelas untuk pemberi rekomendasi nya."
      ]
    },
    {
      "cell_type": "code",
      "metadata": {
        "id": "sdUthX-MD2Tf"
      },
      "source": [
        "class ContentBasedRecommender:\n",
        "    def __init__(self, matrix):\n",
        "        self.matrix_similar = matrix\n",
        "\n",
        "    def _print_message(self, song, recom_song):\n",
        "        rec_items = len(recom_song)\n",
        "        \n",
        "        print(f'{rec_items} lagu yang direkomendasikan untuk {song}:')\n",
        "        for i in range(rec_items):\n",
        "            print(f\"No {i+1}:\")\n",
        "            print(f\"{recom_song[i][1]} by {recom_song[i][2]} dengan skor kesamaan {round(recom_song[i][0], 3)}\") \n",
        "            print(\"--------------------\")\n",
        "        \n",
        "    def recommend(self, recommendation):\n",
        "        # Dapatkan lagu untuk menemukan rekomendasi\n",
        "        song = recommendation['song']\n",
        "        # Dapatkan jumlah lagu untuk direkomendasikan\n",
        "        number_songs = recommendation['number_songs']\n",
        "        # Dapatkan jumlah lagu yang paling mirip dari kesamaan matriks nya\n",
        "        recom_song = self.matrix_similar[song][:number_songs]\n",
        "        self._print_message(song=song, recom_song=recom_song)"
      ],
      "execution_count": null,
      "outputs": []
    },
    {
      "cell_type": "markdown",
      "metadata": {
        "id": "gFsta92TD2Tf"
      },
      "source": [
        "Buat instance kelas nya."
      ]
    },
    {
      "cell_type": "code",
      "metadata": {
        "id": "CGP6ZO0bD2Tf"
      },
      "source": [
        "recommedations = ContentBasedRecommender(similarities)"
      ],
      "execution_count": null,
      "outputs": []
    },
    {
      "cell_type": "markdown",
      "metadata": {
        "id": "HvX98o1tD2Tg"
      },
      "source": [
        " Pilih lagu dari dataset dan buat rekomendasi."
      ]
    },
    {
      "cell_type": "code",
      "metadata": {
        "id": "N4GR2gyGD2Tg"
      },
      "source": [
        "recommendation = {\n",
        "    \"song\": songs['song'].iloc[10],\n",
        "    \"number_songs\": 4 \n",
        "}"
      ],
      "execution_count": null,
      "outputs": []
    },
    {
      "cell_type": "code",
      "metadata": {
        "colab": {
          "base_uri": "https://localhost:8080/"
        },
        "id": "QfQAjswdD2Tg",
        "outputId": "eb7a2a70-b064-48e3-bcd5-705c87073ad4"
      },
      "source": [
        "recommedations.recommend(recommendation)"
      ],
      "execution_count": null,
      "outputs": [
        {
          "output_type": "stream",
          "text": [
            "4 lagu yang direkomendasikan untuk We Here:\n",
            "No 1:\n",
            "Thats Not Love by Fabolous dengan skor kesamaan 0.213\n",
            "--------------------\n",
            "No 2:\n",
            "Make U Mine by Fabolous dengan skor kesamaan 0.205\n",
            "--------------------\n",
            "No 3:\n",
            "Do You See by Z-Ro dengan skor kesamaan 0.203\n",
            "--------------------\n",
            "No 4:\n",
            "Work Magic Freestyle by Fabolous dengan skor kesamaan 0.198\n",
            "--------------------\n"
          ],
          "name": "stdout"
        }
      ]
    },
    {
      "cell_type": "markdown",
      "metadata": {
        "id": "Nz5LDrB8D2Th"
      },
      "source": [
        "Pilih lagu random lainnya untuk rekomendasi."
      ]
    },
    {
      "cell_type": "code",
      "metadata": {
        "id": "RiSzDy5dD2Th"
      },
      "source": [
        "recommendation2 = {\n",
        "    \"song\": songs['song'].iloc[400],\n",
        "    \"number_songs\": 4 \n",
        "}"
      ],
      "execution_count": null,
      "outputs": []
    },
    {
      "cell_type": "code",
      "metadata": {
        "colab": {
          "base_uri": "https://localhost:8080/"
        },
        "id": "qBK33qk1D2Th",
        "outputId": "86e04ca2-b75e-4e70-fb9e-da8307a3f187"
      },
      "source": [
        "recommedations.recommend(recommendation2)"
      ],
      "execution_count": null,
      "outputs": [
        {
          "output_type": "stream",
          "text": [
            "4 lagu yang direkomendasikan untuk On A Slow Boat To China:\n",
            "No 1:\n",
            "Boat To Sail by Carpenters dengan skor kesamaan 0.258\n",
            "--------------------\n",
            "No 2:\n",
            "Where The Boat Leaves From by Zac Brown Band dengan skor kesamaan 0.251\n",
            "--------------------\n",
            "No 3:\n",
            "SLOW DOWN by The Jam dengan skor kesamaan 0.209\n",
            "--------------------\n",
            "No 4:\n",
            "Last Chance by Andy Williams dengan skor kesamaan 0.17\n",
            "--------------------\n"
          ],
          "name": "stdout"
        }
      ]
    }
  ]
}